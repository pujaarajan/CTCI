{
 "cells": [
  {
   "cell_type": "markdown",
   "metadata": {},
   "source": [
    "#2. Linked Lists"
   ]
  },
  {
   "cell_type": "code",
   "execution_count": 3,
   "metadata": {
    "collapsed": false
   },
   "outputs": [],
   "source": [
    "from random import randint\n",
    "\n",
    "class Node:\n",
    "    def __init__(self, value):\n",
    "        self.value = value\n",
    "        self.next = None\n",
    "\n",
    "    def __str__(self):\n",
    "        return str(self.value)\n",
    "\n",
    "class LinkedList:\n",
    "    def __init__(self):\n",
    "        self.head = None\n",
    "        self.tail = None\n",
    "\n",
    "    def addNode(self,value):\n",
    "        node = Node(value)\n",
    "        #if the old list is none, set new node as the first node\n",
    "        if self.head == None:\n",
    "            self.head = node\n",
    "            self.tail = node\n",
    "        else:\n",
    "            self.tail.next = node\n",
    "            self.tail = node\n",
    "\n",
    "    def __str__(self):\n",
    "        if self.head != None:\n",
    "            index = self.head\n",
    "            nodestore = [str(index.value)]\n",
    "            while index.next != None:\n",
    "                index = index.next\n",
    "                nodestore.append(str(index.value))\n",
    "            return \"LinkedList  [ \" + \"->\".join(nodestore) + \" ]\"\n",
    "        return \"LinkedList  []\"\n",
    "\n",
    "\n",
    "    def removeNode(self, node_value):\n",
    "        current = self.head\n",
    "        if current.value == node_value:\n",
    "            self.head = self.head.next\n",
    "        while(current.next != None):\n",
    "            if current.next.value == node_value:\n",
    "                current.next = current.next.next\n",
    "                break\n",
    "            else:\n",
    "                current = current.next\n",
    "\n",
    "\n",
    "def randomLinkedList(length, min, max):\n",
    "    linkedlist = LinkedList()\n",
    "    for i in range(length):\n",
    "        value = randint(min, max)\n",
    "        linkedlist.addNode(value)\n",
    "    return linkedlist"
   ]
  },
  {
   "cell_type": "markdown",
   "metadata": {},
   "source": [
    "##2.1 Write code to remove duplicates from an unsorted linked list. How would you solve this problem if a temporary buffer is not allowed?"
   ]
  },
  {
   "cell_type": "code",
   "execution_count": null,
   "metadata": {
    "collapsed": true
   },
   "outputs": [],
   "source": [
    "#what is a temp buffer"
   ]
  },
  {
   "cell_type": "markdown",
   "metadata": {},
   "source": [
    "##2.2 Implement an algorithm to find the kth to last element of a singly linked list."
   ]
  },
  {
   "cell_type": "code",
   "execution_count": 121,
   "metadata": {
    "collapsed": false
   },
   "outputs": [],
   "source": [
    "def twotwo(linkedlist, k):\n",
    "    if linkedlist.head == None:\n",
    "        return \"Linked List is empty\"\n",
    "    else:\n",
    "        length = 1\n",
    "        i = linkedlist.head\n",
    "        while i.next != None:\n",
    "            length = length + 1\n",
    "            i = i.next\n",
    "        l = length - k + 1\n",
    "        if l > 0:\n",
    "            i = linkedlist.head\n",
    "            j = 1\n",
    "            while j != l:\n",
    "                j = j +1\n",
    "                i = i.next\n",
    "            return i.value\n",
    "        else:\n",
    "            return None\n",
    "            "
   ]
  },
  {
   "cell_type": "code",
   "execution_count": 55,
   "metadata": {
    "collapsed": false,
    "scrolled": true
   },
   "outputs": [],
   "source": [
    "x = randomLinkedList(3,1,10)"
   ]
  },
  {
   "cell_type": "code",
   "execution_count": 56,
   "metadata": {
    "collapsed": false
   },
   "outputs": [
    {
     "data": {
      "text/plain": [
       "'LinkedList  [ 2->1->4 ]'"
      ]
     },
     "execution_count": 56,
     "metadata": {},
     "output_type": "execute_result"
    }
   ],
   "source": [
    "str(x)"
   ]
  },
  {
   "cell_type": "code",
   "execution_count": 57,
   "metadata": {
    "collapsed": false
   },
   "outputs": [
    {
     "data": {
      "text/plain": [
       "'k is larger than length of the linked list'"
      ]
     },
     "execution_count": 57,
     "metadata": {},
     "output_type": "execute_result"
    }
   ],
   "source": [
    "twotwo(x, 4)"
   ]
  },
  {
   "cell_type": "markdown",
   "metadata": {},
   "source": [
    "##2.3 Implement an algorithm to delete a node in the middle of a singly linked list, given only access to that node.\n",
    "\n",
    "###EXAMPLE\n",
    "###Input: the node c from the linked list a->b->c->d->e\n",
    "###Result: nothing is returned, but the new linked list looks like a- >b- >d->e"
   ]
  },
  {
   "cell_type": "code",
   "execution_count": 52,
   "metadata": {
    "collapsed": true
   },
   "outputs": [],
   "source": [
    "def twothree(linkedlist, node):\n",
    "    if node.next != None:\n",
    "        node.value = node.next.value\n",
    "        node.next = node.next.next\n",
    "    else:\n",
    "        node.value = None"
   ]
  },
  {
   "cell_type": "code",
   "execution_count": 53,
   "metadata": {
    "collapsed": false
   },
   "outputs": [
    {
     "name": "stdout",
     "output_type": "stream",
     "text": [
      "LinkedList  [ 10->1->31->13->69 ]\n",
      "After deleting the node\n",
      "LinkedList  [ 10->1->13->69 ]\n"
     ]
    }
   ],
   "source": [
    "L = randomLinkedList(5, 0, 100)\n",
    "node = L.head.next.next         # Given access to the 3rd node\n",
    "print L\n",
    "print \"After deleting the node\"\n",
    "twothree(L, node)\n",
    "print L"
   ]
  },
  {
   "cell_type": "markdown",
   "metadata": {},
   "source": [
    "##2.4 Write code to partition a linked list around a value x, such that all nodes less than x come before all nodes greater than or equal to x."
   ]
  },
  {
   "cell_type": "code",
   "execution_count": 50,
   "metadata": {
    "collapsed": true
   },
   "outputs": [],
   "source": [
    "def twofour(linkedlist, x):\n",
    "    if linkedlist.head != None:\n",
    "        p1 = linkedlist.head\n",
    "        p2 = linkedlist.head.next\n",
    "        while p2 != None:\n",
    "            if p2.value < x:\n",
    "                p1.next = p2.next\n",
    "                p2.next = linkedlist.head\n",
    "                linkedlist.head = p2\n",
    "                p2 = p1.next\n",
    "            else:\n",
    "                p1 = p1.next\n",
    "                p2 = p1.next\n"
   ]
  },
  {
   "cell_type": "code",
   "execution_count": 51,
   "metadata": {
    "collapsed": false
   },
   "outputs": [
    {
     "name": "stdout",
     "output_type": "stream",
     "text": [
      "LinkedList  [ 4->4->4->5->4 ]  , x = 3\n",
      "LinkedList  [ 4->4->4->5->4 ]\n"
     ]
    }
   ],
   "source": [
    "L = randomLinkedList(5, 0, 5)\n",
    "x = 3\n",
    "print L, \" , x = 3\"   \n",
    "twofour(L, x)\n",
    "print L "
   ]
  },
  {
   "cell_type": "markdown",
   "metadata": {},
   "source": [
    "##2.5 You have two numbers represented by a linked list, where each node contains a single digit. The digits are stored in reverse order, such that the Ts digit is at the head of the list. Write a function that adds the two numbers and returns the sum as a linked list."
   ]
  },
  {
   "cell_type": "code",
   "execution_count": 59,
   "metadata": {
    "collapsed": true
   },
   "outputs": [],
   "source": [
    "def length(linkedlist):\n",
    "    length = 1\n",
    "    i = linkedlist.head\n",
    "    while i.next != None:\n",
    "        length = length + 1\n",
    "        i = i.next\n",
    "    return length"
   ]
  },
  {
   "cell_type": "code",
   "execution_count": 147,
   "metadata": {
    "collapsed": false
   },
   "outputs": [],
   "source": [
    "def reverse( linkedlist ) :\n",
    "    if linkedlist.head == None or linkedlist.head.next == None:\n",
    "        return linkedlist\n",
    "    else:\n",
    "        a = linkedlist.head\n",
    "        b = a.next\n",
    "        c = b.next\n",
    "        # swaps\n",
    "        a.next = None\n",
    "        b.next = a;\n",
    "        a = b;\n",
    "        print linkedlist\n",
    "        while None != c:\n",
    "            b = c\n",
    "            c = c.next\n",
    "            b.next = a\n",
    "            a = b\n",
    "            print linkedlist\n",
    "        linkedlist.head = b\n",
    "        print linkedlist\n",
    "        return linkedlist"
   ]
  },
  {
   "cell_type": "code",
   "execution_count": 148,
   "metadata": {
    "collapsed": false
   },
   "outputs": [],
   "source": [
    "def twofive(L1, L2):\n",
    "    print str(L1)\n",
    "    print str(L2)\n",
    "    linkedlist = LinkedList()\n",
    "    len1 = length(L1)\n",
    "    len2 = length(L2)\n",
    "    for x in range(1,max(len1,len2)+1,1):\n",
    "        a = twotwo(L1,x) \n",
    "        b = twotwo(L2,x)\n",
    "        if (a == None or b == None):\n",
    "            if a != None: \n",
    "                c = a \n",
    "            else:\n",
    "                c = b\n",
    "        else:\n",
    "            c = a + b\n",
    "        linkedlist.addNode(c)\n",
    "    return linkedlist\n",
    "            "
   ]
  },
  {
   "cell_type": "code",
   "execution_count": 151,
   "metadata": {
    "collapsed": false
   },
   "outputs": [
    {
     "name": "stdout",
     "output_type": "stream",
     "text": [
      "LinkedList  [ 3->2 ]\n",
      "LinkedList  [ 5->1->3 ]\n",
      "LinkedList  [ 5->4->5 ]\n",
      "LinkedList  [ 3->2 ]\n",
      "LinkedList  [ 3 ]\n",
      "LinkedList  [ 2->3 ]\n",
      "LinkedList  [ 2->3 ]\n"
     ]
    }
   ],
   "source": [
    "x = randomLinkedList(2,1,5)\n",
    "y = randomLinkedList(3,1,5)\n",
    "print str(twofive(x,y))\n",
    "print str(reverse(x))"
   ]
  },
  {
   "cell_type": "markdown",
   "metadata": {},
   "source": [
    "#2.6 Given a circular linked list, implement an algorithm which returns the node at the beginning of the loop.\n",
    "###DEFINITION\n",
    "####Circular linked list: A (corrupt) linked list in which a node's next pointer points to an earlier node, so as to make a loop in the linked list.\n",
    "###EXAMPLE\n",
    "###Input: A - > B - > C - > D - > E - > C [the same C as earlier]\n",
    "###Output: C\n"
   ]
  },
  {
   "cell_type": "code",
   "execution_count": 153,
   "metadata": {
    "collapsed": false
   },
   "outputs": [],
   "source": [
    "def twosix(linkedlist):\n",
    "    slow = linkedlist.head\n",
    "    fast = linkedlist.head\n",
    "    \n",
    "    #find meeting point\n",
    "    while (slow != None and fast !=None):\n",
    "        slow = slow.next\n",
    "        fast = fast.next.next\n",
    "        if fast == slow:\n",
    "            break\n",
    "    \n",
    "    #check whether or not its a linked listk\n",
    "    if (fast == None or fast.next == None):\n",
    "        return None\n",
    "    \n",
    "    # Move one runner to head. Making them move at same pace, they will meet at the beginning of the loop\n",
    "    fast = linkedlist.head\n",
    "    while (fast != slow):\n",
    "        slow = slow.next\n",
    "        fast = fast.next\n",
    "    return fast"
   ]
  },
  {
   "cell_type": "code",
   "execution_count": null,
   "metadata": {
    "collapsed": false
   },
   "outputs": [],
   "source": [
    "nodes_number = 100\n",
    "nodes_in_loop = 20\n",
    "L = LinkedList()\n",
    "current = L.head\n",
    "store = []                  # store nodes to help creating loop\n",
    "\n",
    "# Create a linked list\n",
    "for i in range(nodes_number):\n",
    "    L.addNode(i)\n",
    "    current = L.head if i==0 else current.next\n",
    "    store.append(current)\n",
    "\n",
    "# Create loop\n",
    "current.next = None if nodes_in_loop <= 0 else store[nodes_number - nodes_in_loop]\n",
    "\n",
    "beginning = twosix(L)\n",
    "print L\n",
    "print beginning    "
   ]
  },
  {
   "cell_type": "markdown",
   "metadata": {},
   "source": [
    "#2.7 Implement a function to check if a linked list is a palindrome."
   ]
  },
  {
   "cell_type": "code",
   "execution_count": null,
   "metadata": {
    "collapsed": true
   },
   "outputs": [],
   "source": [
    "#if head and tail match\n",
    "# move head forward and tail backward\n",
    "\n",
    "def twoseven(linkedlist):\n",
    "    if linkedlist.head == None:\n",
    "        return None\n",
    "    fast = linkedlist.head\n",
    "    slow = linkedlist.head\n",
    "    firsthalf = []\n",
    "    while fast != None and fast.next != None:\n",
    "        "
   ]
  }
 ],
 "metadata": {
  "kernelspec": {
   "display_name": "Python 2",
   "language": "python",
   "name": "python2"
  },
  "language_info": {
   "codemirror_mode": {
    "name": "ipython",
    "version": 2
   },
   "file_extension": ".py",
   "mimetype": "text/x-python",
   "name": "python",
   "nbconvert_exporter": "python",
   "pygments_lexer": "ipython2",
   "version": "2.7.10"
  }
 },
 "nbformat": 4,
 "nbformat_minor": 0
}
