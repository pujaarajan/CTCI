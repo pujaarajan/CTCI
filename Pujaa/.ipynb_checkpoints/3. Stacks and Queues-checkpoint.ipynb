{
 "cells": [
  {
   "cell_type": "code",
   "execution_count": 4,
   "metadata": {
    "collapsed": true
   },
   "outputs": [],
   "source": [
    "class Stack:\n",
    "    def __init__(self):\n",
    "        self.stack = []\n",
    "        \n",
    "    def push(self, value):\n",
    "        self.stack.append(value)\n",
    "\n",
    "    def pop(self):\n",
    "        if len(self.stack) == 0:\n",
    "            return None\n",
    "        return self.stack.pop()\n",
    "    \n",
    "    def peek(self):\n",
    "        return self.stack[-1]\n",
    "    \n",
    "    def is_empty(self):\n",
    "        len(self.stack) == 0"
   ]
  },
  {
   "cell_type": "markdown",
   "metadata": {},
   "source": [
    "###3.1 Describe how you could use a single array to implement three stacks."
   ]
  },
  {
   "cell_type": "markdown",
   "metadata": {
    "collapsed": true
   },
   "source": [
    "???"
   ]
  },
  {
   "cell_type": "code",
   "execution_count": null,
   "metadata": {
    "collapsed": true
   },
   "outputs": [],
   "source": []
  },
  {
   "cell_type": "markdown",
   "metadata": {},
   "source": [
    "###3.2 How would you design a stack which, in addition to push and pop, also has a function min which returns the minimum element? Push, pop and min should all operate in O(1) time."
   ]
  },
  {
   "cell_type": "code",
   "execution_count": 4,
   "metadata": {
    "collapsed": true
   },
   "outputs": [],
   "source": [
    "class StackWithMin:\n",
    "    def __init__(self):\n",
    "        self.stack = []\n",
    "        self.min = []\n",
    "        \n",
    "    def push(self, value):\n",
    "        self.stack.append(value)\n",
    "        if len(self.min) == 0 or value <= self.min[-1]:\n",
    "            self.min.append(value)\n",
    "\n",
    "    def pop(self):\n",
    "        if len(self.stack) == 0:\n",
    "            return None\n",
    "        data = self.stack.pop()\n",
    "        if data == self.min[-1]:\n",
    "            self.min.pop()\n",
    "        return data\n",
    "\n",
    "    def get_min(self):\n",
    "        if len(self.min)==0:\n",
    "            return None\n",
    "        return self.min[-1]"
   ]
  },
  {
   "cell_type": "code",
   "execution_count": 6,
   "metadata": {
    "collapsed": false
   },
   "outputs": [
    {
     "name": "stdout",
     "output_type": "stream",
     "text": [
      "48 8 25 61 26 68 46 67 64 68 \n",
      "new pop 68\n",
      "new min 8\n",
      "new pop 64\n",
      "new min 8\n",
      "new pop 67\n",
      "new min 8\n",
      "new pop 46\n",
      "new min 8\n",
      "new pop 68\n",
      "new min 8\n",
      "new pop 26\n",
      "new min 8\n",
      "new pop 61\n",
      "new min 8\n",
      "new pop 25\n",
      "new min 8\n",
      "new pop 8\n",
      "new min 48\n",
      "new pop 48\n",
      "new min None\n"
     ]
    }
   ],
   "source": [
    "from random import randrange\n",
    "S1 = StackWithMin()\n",
    "test_list = [randrange(100) for x in xrange(10)]\n",
    "for num in test_list:\n",
    "\tS1.push(num)\n",
    "\tprint num, \n",
    "print \"\"\n",
    "for i in xrange(len(test_list)):\n",
    "\tprint \"new pop\", S1.pop()\n",
    "\tprint \"new min\", S1.get_min()\n",
    " "
   ]
  },
  {
   "cell_type": "markdown",
   "metadata": {},
   "source": [
    "###3.3 Imagine a (literal) stack of plates. If the stack gets too high, it might topple. Therefore, in real life, we would likely start a new stack when the previous stack exceeds some threshold. \n",
    "\n",
    "###Implement a data structure SetOf Stacks that mimics this. SetOf Stacks should be composed of several stacks and should create a new stack once the previous one exceeds capacity. SetOf Stacks. push() and SetOf Stacks. pop() should behave identically to a single stack (that is, pop() should return the same values as it would if there were just a single stack).\n",
    "\n",
    "###FOLLOW UP\n",
    "\n",
    "###Implement a function popAt(int index) which performs a pop operation on a specific sub-stack."
   ]
  },
  {
   "cell_type": "code",
   "execution_count": 8,
   "metadata": {
    "collapsed": true
   },
   "outputs": [],
   "source": [
    "class SetOfStacks:\n",
    "    def __init__(self, capacity):\n",
    "        self.stacks = []\n",
    "        self.capacity = capacity\n",
    "        \n",
    "    def push(self, value):\n",
    "        if (len(self.stacks) == 0) or (len(self.stacks[-1]) == self.capacity):\n",
    "            self.stacks.append([])\n",
    "        self.stacks[-1].append(value)\n",
    "    \n",
    "    def pop(self):\n",
    "        if len(self.stacks) == 0:\n",
    "            return None\n",
    "        data = self.stacks[-1].pop()\n",
    "        if len(self.stacks[-1]) == 0:\n",
    "            self.stacks.pop()\n",
    "        return data\n",
    "    \n",
    "    def popAt(self, index):\n",
    "        if index < 0 or index > (len(self.stacks)-1) or len(self.stacks[index]) == 0:\n",
    "            return None\n",
    "        else:\n",
    "            return self.stacks[index].pop() "
   ]
  },
  {
   "cell_type": "code",
   "execution_count": 9,
   "metadata": {
    "collapsed": false
   },
   "outputs": [
    {
     "name": "stdout",
     "output_type": "stream",
     "text": [
      "0 1 2 3 4 5 6 7 8 9 10 11 12 13 14 15 16 17 18 19 20 21 22 23 \n",
      "Popped 23\n",
      "Popped 22\n",
      "Popped 21\n",
      "Popped 20\n",
      "Popped 19\n",
      "Test for popAt\n",
      "Popped 15\n",
      "Popped 18\n",
      "Popped None\n",
      "Popped 14\n",
      "Popped 17\n",
      "Popped None\n",
      "Popped 13\n",
      "Popped 16\n",
      "Popped None\n",
      "Popped 12\n",
      "Popped None\n",
      "Popped None\n",
      "Popped 11\n",
      "Popped None\n",
      "Popped None\n"
     ]
    }
   ],
   "source": [
    "def test():\n",
    "    setofstacks = SetOfStacks(8)\n",
    "    for i in range(24):\n",
    "        setofstacks.push(i)\n",
    "        print i,\n",
    "    print \"\"\n",
    "\n",
    "    for i in range(5):\n",
    "        print \"Popped\", setofstacks.pop()\n",
    "\n",
    "    print \"Test for popAt\"\n",
    "    for i in range(5):\n",
    "        for i in range(3):\n",
    "            print \"Popped\", setofstacks.popAt(i+1)\n",
    "\n",
    "\n",
    "if __name__ == \"__main__\":\n",
    "    test()\n"
   ]
  },
  {
   "cell_type": "markdown",
   "metadata": {},
   "source": [
    "###3.4 In the classic problem of the Towers of Hanoi, you have 3 towers and N disks of different sizes which can slide onto any tower. The puzzle starts with disks sorted in ascending order of size from top to bottom (i.e., each disk sits on top of an even larger one). You have the following constraints:\n",
    "\n",
    "###(1) Only one disk can be moved at a time.\n",
    "###(2) A disk is slid off the top of one tower onto the next tower.\n",
    "###(3) A disk can only be placed on top of a larger disk.\n",
    "\n",
    "###Write a program to move the disks from the first tower to the last using stacks.\n"
   ]
  },
  {
   "cell_type": "code",
   "execution_count": 1,
   "metadata": {
    "collapsed": true
   },
   "outputs": [],
   "source": [
    "#try\n",
    "class Hanoi:\n",
    "    \n",
    "    def __init__(self, size):\n",
    "        self.towers = [[], [], []]\n",
    "        self.size = size\n",
    "        self.towers[0] = [x for x in range(size, 0, -1)]\n",
    "\n",
    "    def playHanoi(self):\n",
    "        self.printTowers()\n",
    "        self.moveDisk(self.size, 1, 2, 3)\n",
    "        self.printTowers()\n",
    "\n",
    "    def moveDisk(self, size, fr, helper, to):\n",
    "        if size == 1:\n",
    "            data = self.towers[fr-1].pop()\n",
    "            self.towers[to-1].append(data)\n",
    "            print \"Disk\", data, \": Tower\", fr, \"->\", to      \n",
    "        else:\n",
    "            self.moveDisk(size - 1, fr, to, helper)\n",
    "            self.moveDisk(1, fr, helper, to)\n",
    "            self.moveDisk(size - 1, helper, fr, to)\n",
    "\n",
    "    def printTowers(self):\n",
    "        for i in self.towers:\n",
    "            print i\n"
   ]
  },
  {
   "cell_type": "code",
   "execution_count": 2,
   "metadata": {
    "collapsed": false
   },
   "outputs": [
    {
     "name": "stdout",
     "output_type": "stream",
     "text": [
      "[4, 3, 2, 1]\n",
      "[]\n",
      "[]\n",
      "Disk 1 : Tower 1 -> 2\n",
      "Disk 2 : Tower 1 -> 3\n",
      "Disk 1 : Tower 2 -> 3\n",
      "Disk 3 : Tower 1 -> 2\n",
      "Disk 1 : Tower 3 -> 1\n",
      "Disk 2 : Tower 3 -> 2\n",
      "Disk 1 : Tower 1 -> 2\n",
      "Disk 4 : Tower 1 -> 3\n",
      "Disk 1 : Tower 2 -> 3\n",
      "Disk 2 : Tower 2 -> 1\n",
      "Disk 1 : Tower 3 -> 1\n",
      "Disk 3 : Tower 2 -> 3\n",
      "Disk 1 : Tower 1 -> 2\n",
      "Disk 2 : Tower 1 -> 3\n",
      "Disk 1 : Tower 2 -> 3\n",
      "[]\n",
      "[]\n",
      "[4, 3, 2, 1]\n"
     ]
    }
   ],
   "source": [
    "hanoi = Hanoi(4)\n",
    "hanoi.playHanoi()"
   ]
  },
  {
   "cell_type": "markdown",
   "metadata": {},
   "source": [
    "###3.5 Implement a MyQueue class which implements a queue using two stacks.\n"
   ]
  },
  {
   "cell_type": "code",
   "execution_count": null,
   "metadata": {
    "collapsed": true
   },
   "outputs": [],
   "source": [
    "class MyQueue:\n",
    "    def __init__ (self):\n",
    "        self.instack = Stack()\n",
    "        self.outstack = Stack()\n",
    "    def enqueue (self,value):\n",
    "        self.instack.push(value)\n",
    "    def dequeue (self):\n",
    "        if not self.outstack:\n",
    "            while self.instack:\n",
    "                self.outstack.push(self.instack.pop())\n",
    "        return self.outstack.pop()"
   ]
  },
  {
   "cell_type": "markdown",
   "metadata": {},
   "source": [
    "###3.6 Write a program to sort a stack in ascending order (with biggest items on top). You may use at most one additional stack to hold items, but you may not copy the elements into any other data structure (such as an array). The stack supports the following operations: push, pop, peek, and isEmpty."
   ]
  },
  {
   "cell_type": "code",
   "execution_count": null,
   "metadata": {
    "collapsed": true
   },
   "outputs": [],
   "source": [
    "def threesix(s):\n",
    "    helper = Stack()\n",
    "        while not s.empty():\t\t\t\n",
    "            tmp = s.pop()\n",
    "        while not helper.empty() and helper.peak() > tmp:\n",
    "            s.push(helper.pop())\n",
    "        r.push(tmp)\n",
    "        while not s.empty() and s.peak() >= helper.peak():\n",
    "        #warning, >= here\n",
    "            helper.push(s.pop())\n",
    "        return r"
   ]
  },
  {
   "cell_type": "markdown",
   "metadata": {},
   "source": [
    "###3.7 An animal shelter holds only dogs and cats, and operates on a strictly \"first in, first out\" basis. People must adopt either the \"oldest\" (based on arrival time) of all animals at the shelter, or they can select whether they would prefer a dog or a cat (and will receive the oldest animal of that type). They cannot select which specificanimal they would like. Create the data structures to maintain this system and implement operations such as enqueue, dequeueAny, dequeueDog and dequeueCat.You may use the built-in LinkedList data structure."
   ]
  },
  {
   "cell_type": "code",
   "execution_count": null,
   "metadata": {
    "collapsed": true
   },
   "outputs": [],
   "source": []
  }
 ],
 "metadata": {
  "kernelspec": {
   "display_name": "Python 2",
   "language": "python",
   "name": "python2"
  },
  "language_info": {
   "codemirror_mode": {
    "name": "ipython",
    "version": 2
   },
   "file_extension": ".py",
   "mimetype": "text/x-python",
   "name": "python",
   "nbconvert_exporter": "python",
   "pygments_lexer": "ipython2",
   "version": "2.7.10"
  }
 },
 "nbformat": 4,
 "nbformat_minor": 0
}
